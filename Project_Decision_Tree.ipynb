{
  "nbformat": 4,
  "nbformat_minor": 0,
  "metadata": {
    "colab": {
      "provenance": [],
      "authorship_tag": "ABX9TyOQ/cvuaXNaXUSQDZPzOlPt",
      "include_colab_link": true
    },
    "kernelspec": {
      "name": "python3",
      "display_name": "Python 3"
    },
    "language_info": {
      "name": "python"
    }
  },
  "cells": [
    {
      "cell_type": "markdown",
      "metadata": {
        "id": "view-in-github",
        "colab_type": "text"
      },
      "source": [
        "<a href=\"https://colab.research.google.com/github/josephfriedel/AAI-510-TEAM-03/blob/main/Project_Decision_Tree.ipynb\" target=\"_parent\"><img src=\"https://colab.research.google.com/assets/colab-badge.svg\" alt=\"Open In Colab\"/></a>"
      ]
    },
    {
      "cell_type": "markdown",
      "source": [
        "#Project\n",
        "\n",
        "#Decision Tree\n",
        "\n",
        "#Data Processing"
      ],
      "metadata": {
        "id": "7bQVxLDxff66"
      }
    },
    {
      "cell_type": "code",
      "source": [
        "from sklearn import tree # Import Tree Classifiers\n",
        "from sklearn.ensemble import RandomForestClassifier # Import Random Forest Classifiers\n",
        "from sklearn.model_selection import train_test_split,  RandomizedSearchCV # Import train_test_split function\n",
        "from sklearn import metrics # Import scikit-learn metrics module for accuracy calculation\n",
        "from scipy.stats import randint # Generate random numbers\n",
        "from xgboost import XGBClassifier, plot_importance\n",
        "import pandas as pd\n",
        "from sklearn.model_selection import train_test_split\n",
        "from sklearn.preprocessing import StandardScaler\n",
        "import numpy as np\n",
        "import seaborn as sns\n",
        "import numpy as np\n",
        "import pandas as pd\n",
        "import matplotlib.pyplot as plt\n",
        "import seaborn as sns\n",
        "from scipy import stats\n",
        "from scipy.stats import norm, skew\n",
        "from sklearn.linear_model import LogisticRegression"
      ],
      "metadata": {
        "id": "YkiYtv1tgXHa"
      },
      "execution_count": null,
      "outputs": []
    },
    {
      "cell_type": "code",
      "source": [
        "def load_dataset(filename):\n",
        "    df = pd.read_csv(filename)\n",
        "    return df"
      ],
      "metadata": {
        "id": "IXxDiJgGh2Nb"
      },
      "execution_count": null,
      "outputs": []
    },
    {
      "cell_type": "code",
      "source": [
        "df = load_dataset(\"AUS_weather.csv\")"
      ],
      "metadata": {
        "id": "k4lRP1ydiKHz"
      },
      "execution_count": null,
      "outputs": []
    },
    {
      "cell_type": "code",
      "source": [
        "#projectXXXrunning\n",
        "#df = sns.load_dataset('train_dataset.csv')\n",
        "#df = load_dataset(\"train_data.csv\")\n",
        "shap = df.shape\n",
        "print(\"Shape of the dataframe (row, col):\",shap,\"\\r\\n\")"
      ],
      "metadata": {
        "id": "8GAvQJkKiOIZ"
      },
      "execution_count": null,
      "outputs": []
    },
    {
      "cell_type": "code",
      "source": [
        "# Show the dataframe\n",
        "df"
      ],
      "metadata": {
        "id": "NtQ8ZbQYiSTS"
      },
      "execution_count": null,
      "outputs": []
    },
    {
      "cell_type": "code",
      "source": [
        "#Clean Data\n",
        "# Missing values\n",
        "missing_count = df.isnull().sum()\n",
        "missing_count"
      ],
      "metadata": {
        "id": "-wvLW9O7jvar"
      },
      "execution_count": null,
      "outputs": []
    },
    {
      "cell_type": "code",
      "source": [
        "# Total of missing values\n",
        "total_cells = np.product(df.shape)\n",
        "total_missing = df.isnull().sum().sum()\n",
        "\n",
        "# Percentage of missing data\n",
        "(total_missing/total_cells) * 100"
      ],
      "metadata": {
        "id": "0SBVx6wJkDXq"
      },
      "execution_count": null,
      "outputs": []
    },
    {
      "cell_type": "code",
      "source": [
        "# Replace missing values with 0\n",
        "df = df.fillna(0)"
      ],
      "metadata": {
        "id": "wSg_61d1kGDZ"
      },
      "execution_count": null,
      "outputs": []
    },
    {
      "cell_type": "code",
      "source": [
        "#Clean Data\n",
        "# Missing values\n",
        "missing_count = df.isnull().sum()\n",
        "missing_count"
      ],
      "metadata": {
        "id": "f2MeTBemuSh2"
      },
      "execution_count": null,
      "outputs": []
    },
    {
      "cell_type": "code",
      "source": [
        "# Replace missing values with 0\n",
        "df = df.fillna(0)"
      ],
      "metadata": {
        "id": "qJlL17vGu2EO"
      },
      "execution_count": null,
      "outputs": []
    },
    {
      "cell_type": "code",
      "source": [
        "# Total of missing values\n",
        "total_cells = np.product(df.shape)\n",
        "total_missing = df.isnull().sum().sum()\n",
        "\n",
        "# Percentage of missing data\n",
        "(total_missing/total_cells) * 100"
      ],
      "metadata": {
        "id": "cONVVVIPvG0Y"
      },
      "execution_count": null,
      "outputs": []
    },
    {
      "cell_type": "code",
      "source": [
        "#display the first 5 rows in dataset:\n",
        "df.head(5)"
      ],
      "metadata": {
        "id": "GAUgNqhvvVIz"
      },
      "execution_count": null,
      "outputs": []
    },
    {
      "cell_type": "code",
      "source": [
        "#shows the data type of each column, number of columns, memory usage, and the number of records in the dataset:\n",
        "df.info()"
      ],
      "metadata": {
        "id": "DzwdE0MTveRf"
      },
      "execution_count": null,
      "outputs": []
    },
    {
      "cell_type": "code",
      "source": [
        "#display the number of records and columns:\n",
        "df.shape"
      ],
      "metadata": {
        "id": "9_LJiMFcvjQK"
      },
      "execution_count": null,
      "outputs": []
    },
    {
      "cell_type": "code",
      "source": [
        "#summarize the dataset’s statistical properties, such as count, mean, min, and max:\n",
        "df.describe()"
      ],
      "metadata": {
        "id": "fzrzQ6xUwAxH"
      },
      "execution_count": null,
      "outputs": []
    },
    {
      "cell_type": "code",
      "source": [
        "# Get unique values in 'Location'\n",
        "unique_values_column1 = df['Location'].unique()\n",
        "print(\"Unique values in 'Location':\", unique_values_column1)"
      ],
      "metadata": {
        "id": "coP5wv94wSY0"
      },
      "execution_count": null,
      "outputs": []
    },
    {
      "cell_type": "code",
      "source": [
        "# Get unique values in 'WindGustDir'\n",
        "unique_values_in_column = df['WindGustDir'].unique()\n",
        "print(\"Unique values in 'WindGustDir':\", unique_values_in_column)"
      ],
      "metadata": {
        "id": "yNqUjTRowTd-"
      },
      "execution_count": null,
      "outputs": []
    },
    {
      "cell_type": "code",
      "source": [
        "# Get unique values in 'WindDir9am'\n",
        "unique_values_in_column = df['WindDir9am'].unique()\n",
        "print(\"Unique values in 'WindDir9am':\", unique_values_in_column)"
      ],
      "metadata": {
        "id": "xJe0si6HwbGX"
      },
      "execution_count": null,
      "outputs": []
    },
    {
      "cell_type": "code",
      "source": [
        "# Get unique values in 'WindDir3pm'\n",
        "unique_values_in_column = df['WindDir3pm'].unique()\n",
        "print(\"Unique values in 'WindDir3pm':\", unique_values_in_column)"
      ],
      "metadata": {
        "id": "IC7WmfhAxOnG"
      },
      "execution_count": null,
      "outputs": []
    },
    {
      "cell_type": "code",
      "source": [
        "# Get unique values in 'RainToday'\n",
        "unique_values_in_column = df['RainToday'].unique()\n",
        "print(\"Unique values in 'RainToday':\", unique_values_in_column)"
      ],
      "metadata": {
        "id": "MArqJQTQxQ8m"
      },
      "execution_count": null,
      "outputs": []
    },
    {
      "cell_type": "code",
      "source": [
        "# Get unique values in 'RainTomorrow'\n",
        "unique_values_in_column = df['RainTomorrow'].unique()\n",
        "print(\"Unique values in 'RainTomorrow':\", unique_values_in_column)"
      ],
      "metadata": {
        "id": "0H0qzgl3xYu-"
      },
      "execution_count": null,
      "outputs": []
    },
    {
      "cell_type": "code",
      "source": [
        "df[\"RainToday\"] = df['RainToday'].replace({'No': 0, 'Yes': 1, '0': 2}).astype(int)"
      ],
      "metadata": {
        "id": "mv1Y-fvBxeZv"
      },
      "execution_count": null,
      "outputs": []
    },
    {
      "cell_type": "code",
      "source": [
        "df[\"RainTomorrow\"] = df['RainTomorrow'].replace({'No': 0, 'Yes': 1, '0': 2}).astype(int)"
      ],
      "metadata": {
        "id": "v5KLP0XVxmaM"
      },
      "execution_count": null,
      "outputs": []
    },
    {
      "cell_type": "code",
      "source": [
        "df[\"WindGustDir\"] = df['WindGustDir'].replace({'N': 1,\n",
        "'NNE': 2,\n",
        "'NE': 3,\n",
        "'ENE': 4,\n",
        "'E': 5,\n",
        "'SE': 6,\n",
        "'ESE': 7,\n",
        "'SSE': 8,\n",
        "'S': 9,\n",
        "'SSW': 10,\n",
        "'SW': 11,\n",
        "'WSW': 12,\n",
        "'W': 13,\n",
        "'WNW': 14,\n",
        "'NW': 15,\n",
        "'NNW': 16,\n",
        "'0':17}).astype(int)"
      ],
      "metadata": {
        "id": "dObpU6z8xqiL"
      },
      "execution_count": null,
      "outputs": []
    },
    {
      "cell_type": "code",
      "source": [
        "df[\"WindDir9am\"] = df['WindDir9am'].replace({'N': 1,\n",
        "'NNE': 2,\n",
        "'NE': 3,\n",
        "'ENE': 4,\n",
        "'E': 5,\n",
        "'SE': 6,\n",
        "'ESE': 7,\n",
        "'SSE': 8,\n",
        "'S': 9,\n",
        "'SSW': 10,\n",
        "'SW': 11,\n",
        "'WSW': 12,\n",
        "'W': 13,\n",
        "'WNW': 14,\n",
        "'NW': 15,\n",
        "'NNW': 16,\n",
        "'0':17}).astype(int)"
      ],
      "metadata": {
        "id": "1CIN7OaDx-e1"
      },
      "execution_count": null,
      "outputs": []
    },
    {
      "cell_type": "code",
      "source": [
        "df[\"WindDir3pm\"] = df['WindDir3pm'].replace({'N': 1,\n",
        "'NNE': 2,\n",
        "'NE': 3,\n",
        "'ENE': 4,\n",
        "'E': 5,\n",
        "'SE': 6,\n",
        "'ESE': 7,\n",
        "'SSE': 8,\n",
        "'S': 9,\n",
        "'SSW': 10,\n",
        "'SW': 11,\n",
        "'WSW': 12,\n",
        "'W': 13,\n",
        "'WNW': 14,\n",
        "'NW': 15,\n",
        "'NNW': 16,\n",
        "'0':17}).astype(int)"
      ],
      "metadata": {
        "id": "n6tPzhlXyEpd"
      },
      "execution_count": null,
      "outputs": []
    },
    {
      "cell_type": "code",
      "source": [
        "df[\"Location\"] = df['Location'].replace({'Adelaide': 1,\n",
        "'Albany': 2,\n",
        "'Albury': 3,\n",
        "'AliceSprings': 4,\n",
        "'BadgerysCreek': 5,\n",
        "'Ballarat': 6,\n",
        "'Bendigo': 7,\n",
        "'Brisbane': 8,\n",
        "'Cairns': 9,\n",
        "'Canberra': 10,\n",
        "'Cobar': 11,\n",
        "'CoffsHarbour': 12,\n",
        "'Dartmoor': 13,\n",
        "'Darwin': 14,\n",
        "'GoldCoast': 15,\n",
        "'Hobart': 16,\n",
        "'Katherine': 17,\n",
        "'Launceston': 18,\n",
        "'Melbourne': 19,\n",
        "'MelbourneAirport': 20,\n",
        "'Mildura': 21,\n",
        "'Moree': 22,\n",
        "'MountGambier': 23,\n",
        "'MountGinini': 24,\n",
        "'Newcastle': 25,\n",
        "'Nhil': 26,\n",
        "'NorahHead': 27,\n",
        "'NorfolkIsland': 28,\n",
        "'Nuriootpa': 29,\n",
        "'PearceRAAF': 30,\n",
        "'Penrith': 31,\n",
        "'Perth': 32,\n",
        "'PerthAirport': 33,\n",
        "'Portland': 34,\n",
        "'Richmond': 35,\n",
        "'Sale': 36,\n",
        "'SalmonGums': 37,\n",
        "'Sydney': 38,\n",
        "'SydneyAirport': 39,\n",
        "'Townsville': 40,\n",
        "'Tuggeranong': 41,\n",
        "'Uluru': 42,\n",
        "'WaggaWagga': 43,\n",
        "'Walpole': 44,\n",
        "'Watsonia': 45,\n",
        "'Williamtown': 46,\n",
        "'Witchcliffe': 47,\n",
        "'Wollongong': 48,\n",
        "'Woomera': 49,\n",
        "'0': 50}).astype(int)"
      ],
      "metadata": {
        "id": "ANMUi-RqyUac"
      },
      "execution_count": null,
      "outputs": []
    },
    {
      "cell_type": "code",
      "source": [
        "# Remove date column\n",
        "del df['Date']"
      ],
      "metadata": {
        "id": "CWBF64qTyb7t"
      },
      "execution_count": null,
      "outputs": []
    },
    {
      "cell_type": "code",
      "source": [
        "#display the first 5 rows in dataset:\n",
        "print(df.iloc[:5])"
      ],
      "metadata": {
        "id": "iEs_JSKiyhYc"
      },
      "execution_count": null,
      "outputs": []
    },
    {
      "cell_type": "code",
      "source": [
        "#display the correlation between different variables in dataset:\n",
        "df.corr()"
      ],
      "metadata": {
        "id": "rx5Ktfv4yog0"
      },
      "execution_count": null,
      "outputs": []
    },
    {
      "cell_type": "code",
      "source": [
        "from sklearn.tree import DecisionTreeClassifier\n",
        "from sklearn.model_selection import train_test_split\n",
        "from sklearn import tree"
      ],
      "metadata": {
        "id": "_RE1SmzHy5dt"
      },
      "execution_count": null,
      "outputs": []
    },
    {
      "cell_type": "code",
      "source": [
        "X=pd.DataFrame(df)"
      ],
      "metadata": {
        "id": "wZEm67hczCUA"
      },
      "execution_count": null,
      "outputs": []
    },
    {
      "cell_type": "code",
      "source": [
        "print(X.head())"
      ],
      "metadata": {
        "id": "rcnr65xfzIGs"
      },
      "execution_count": null,
      "outputs": []
    },
    {
      "cell_type": "code",
      "source": [
        "print(df.columns)"
      ],
      "metadata": {
        "id": "29El5U_6zOx8"
      },
      "execution_count": null,
      "outputs": []
    },
    {
      "cell_type": "code",
      "source": [
        "# Select features\n",
        "features = ['Location',\n",
        " 'MinTemp',\n",
        " 'MaxTemp',\n",
        " 'Rainfall',\n",
        " 'Evaporation',\n",
        " 'Sunshine',\n",
        " 'WindGustSpeed',\n",
        " 'WindSpeed9am',\n",
        " 'WindSpeed3pm',\n",
        " 'Humidity9am',\n",
        " 'Humidity3pm',\n",
        " 'Pressure9am',\n",
        " 'Pressure3pm',\n",
        " 'Cloud9am',\n",
        " 'Cloud3pm',\n",
        " 'Temp9am',\n",
        " 'Temp3pm',\n",
        " 'RainToday']\n",
        "X_selected = X[features]"
      ],
      "metadata": {
        "id": "yUGYLk7ezR61"
      },
      "execution_count": null,
      "outputs": []
    },
    {
      "cell_type": "code",
      "source": [
        "# Select Target\n",
        "y = X['RainTomorrow']"
      ],
      "metadata": {
        "id": "JtR9-HcMze8M"
      },
      "execution_count": null,
      "outputs": []
    },
    {
      "cell_type": "code",
      "source": [
        "# Split the data into training and test sets\n",
        "X_train, X_test, y_train, y_test = train_test_split(X_selected, y, test_size=0.3, random_state=42)"
      ],
      "metadata": {
        "id": "Wh83dqSxzi2-"
      },
      "execution_count": null,
      "outputs": []
    },
    {
      "cell_type": "code",
      "source": [
        "# Initialize the classifier\n",
        "clf = DecisionTreeClassifier(random_state=42)\n",
        "\n",
        "# Fit the model\n",
        "clf.fit(X_train, y_train)\n",
        "\n",
        "# Predict on the test set\n",
        "y_pred = clf.predict(X_test)\n",
        "\n",
        "# Evaluate the model\n",
        "accuracy = np.mean(y_pred == y_test)\n",
        "print(f'Accuracy: {accuracy:.2f}')"
      ],
      "metadata": {
        "id": "M4KjlAQOzoM1"
      },
      "execution_count": null,
      "outputs": []
    },
    {
      "cell_type": "code",
      "source": [
        "#@title Designating target and features\n",
        "y = df.RainTomorrow # Target variable\n",
        "df = df.drop(columns=['RainTomorrow']) # Features by dropping the target column"
      ],
      "metadata": {
        "id": "zfNQ_jZ_ztG0"
      },
      "execution_count": null,
      "outputs": []
    },
    {
      "cell_type": "code",
      "source": [
        "#projectXXXrunning\n",
        "X_train, X_test, y_train, y_test = train_test_split(X, y, test_size=0.3, random_state=1) # 70% training and 30% test/valid"
      ],
      "metadata": {
        "id": "uUGIhZWvz6uX"
      },
      "execution_count": null,
      "outputs": []
    },
    {
      "cell_type": "markdown",
      "source": [
        "# Decision Tree"
      ],
      "metadata": {
        "id": "O-m6bMZEz8Rx"
      }
    },
    {
      "cell_type": "code",
      "source": [
        "#@title Building the Decision Tree\n",
        "clf = tree.DecisionTreeClassifier() # Create Decision Tree classifer object\n",
        "clf = clf.fit(X_train, y_train) # Train Decision Tree Classifer"
      ],
      "metadata": {
        "id": "MDVK3p_Q0AQk"
      },
      "execution_count": null,
      "outputs": []
    },
    {
      "cell_type": "code",
      "source": [
        "#@title Evaluating the Tree model\n",
        "y_hat = clf.predict(X_train) # Predict the response for train dataset\n",
        "\n",
        "y_pred = clf.predict(X_test) # Predict the response for test dataset\n",
        "\n",
        "# Compute training and test accuracy\n",
        "print(\"Train Accuracy:\", metrics.accuracy_score(y_train, y_hat))\n",
        "print(\"Test Accuracy:\", metrics.accuracy_score(y_test, y_pred))"
      ],
      "metadata": {
        "id": "KzrKik9R0F-3"
      },
      "execution_count": null,
      "outputs": []
    },
    {
      "cell_type": "code",
      "source": [
        "#@title Visualizing the Tree\n",
        "\n",
        "f_names=list(X.columns) # Feature names\n",
        "tree.plot_tree(clf, filled=True, feature_names=f_names) # Plot the tree\n",
        "plt.show() # Show without the rules in plain text"
      ],
      "metadata": {
        "id": "BZ0S8FgD0N-y"
      },
      "execution_count": null,
      "outputs": []
    },
    {
      "cell_type": "code",
      "source": [
        "# Create Decision Tree classifer object by spefifying parameters\n",
        "# Try using max_depth=3, min_samples_split=100, min_samples_leaf=2, criterion=\"entropy\"\n",
        "clf = tree.DecisionTreeClassifier(max_depth=3, min_samples_leaf=2, criterion='entropy')\n",
        "\n",
        "# Train and test the classifier\n",
        "clf = clf.fit(X_train, y_train) # Train Decision Tree Classifer\n",
        "y_hat = clf.predict(X_train) # Predict the response for train dataset\n",
        "y_pred = clf.predict(X_test) # Predict the response for test dataset\n",
        "\n",
        "# Compute training and test accuracy\n",
        "print(\"Train Accuracy:\", metrics.accuracy_score(y_train, y_hat))\n",
        "print(\"Test Accuracy:\", metrics.accuracy_score(y_test, y_pred))\n",
        "\n",
        "plt.rcParams['figure.dpi'] = 200 # To increase the resolution from 100dpi to 200dpi\n",
        "\n",
        "# Plot the tree\n",
        "f_names=list(X.columns) # Feature names\n",
        "tree.plot_tree(clf, filled=True, feature_names=f_names) # Plot the tree\n",
        "plt.show() # Show without the rules in plain text"
      ],
      "metadata": {
        "id": "6X8WZXeE0ViR"
      },
      "execution_count": null,
      "outputs": []
    }
  ]
}